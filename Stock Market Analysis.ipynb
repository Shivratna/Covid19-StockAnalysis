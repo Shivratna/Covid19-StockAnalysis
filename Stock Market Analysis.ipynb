{
 "cells": [
  {
   "cell_type": "markdown",
   "id": "04f2b22c",
   "metadata": {},
   "source": [
    "# Covid-19 Finance Data Project \n",
    "\n",
    "In this data project we will focus on exploratory data analysis of stock prices. This project is not meant to be a robust financial analysis or be taken as financial advice.\n",
    "\n",
    "We'll focus on bank stocks and see how they progressed throughout the [https://en.wikipedia.org/wiki/COVID-19_recession] all the way to recession in recent 2022.\n",
    "\n",
    "#### Project By : K.P.S.Shivratna"
   ]
  },
  {
   "cell_type": "markdown",
   "id": "9529ac89",
   "metadata": {},
   "source": [
    "## Getting the Data\n",
    "\n",
    "For getting the data I utilized the IEX Cloud Services which provide Market Stocks related data for recent 15 Years. [ https://iexcloud.io/ ]\n",
    "\n",
    "Utilised Pandas Datareader to get the data. I have collected stock information for the following banks:\n",
    "* Bank of America\n",
    "* CitiGroup\n",
    "* Goldman Sachs\n",
    "* JPMorgan Chase\n",
    "* Morgan Stanley\n",
    "* Wells Fargo\n",
    "\n",
    "Basic implementations requirements :\n",
    "1. Use datetime to set start and end datetime objects.\n",
    "2. Figure out the ticker symbol for each bank.\n",
    "2. Figure out how to use datareader to grab info on the stock.\n"
   ]
  },
  {
   "cell_type": "code",
   "execution_count": 1,
   "id": "2587987b",
   "metadata": {},
   "outputs": [],
   "source": [
    "from pandas_datareader import data, wb\n",
    "import pandas as pd\n",
    "import numpy as np\n",
    "import datetime\n",
    "%matplotlib inline"
   ]
  },
  {
   "cell_type": "code",
   "execution_count": 2,
   "id": "b6156394",
   "metadata": {},
   "outputs": [],
   "source": [
    "#Setting up the duration through which we want to study the Market\n",
    "start  = datetime.datetime(2010,1,1)\n",
    "end = datetime.datetime(2022,1,1)"
   ]
  },
  {
   "cell_type": "code",
   "execution_count": 3,
   "id": "5cccd985",
   "metadata": {},
   "outputs": [],
   "source": [
    "#Auth Key for accessing the Cloud API provided by IEX Cloud\n",
    "import os\n",
    "os.environ[\"IEX_API_KEY\"] = \"pk_9ae9032a5e4c4899a930bc717907846e\""
   ]
  },
  {
   "cell_type": "code",
   "execution_count": null,
   "id": "41d864f1",
   "metadata": {},
   "outputs": [],
   "source": [
    "#Bank of America\n",
    "BAC = data.DataReader('BAC','iex',start,end)\n",
    "\n",
    "#CitiBank\n",
    "C = data.DataReader('C','iex',start,end)\n",
    "\n",
    "#Goldman Sachs\n",
    "GS = data.DataReader('GS','iex',start,end)\n",
    "\n",
    "#JP Morgan\n",
    "JPM = data.DataReader('JPM','iex',start,end)\n",
    "\n",
    "#Morgan Stanley\n",
    "MS = data.DataReader('MS','iex',start,end)\n",
    "\n",
    "#Wells Fargo\n",
    "WFC = data.DataReader('WFC','iex',start,end)"
   ]
  },
  {
   "cell_type": "code",
   "execution_count": null,
   "id": "c3119cb0",
   "metadata": {},
   "outputs": [],
   "source": [
    "#Sample data view of Bank of America\n",
    "BAC.head()"
   ]
  },
  {
   "cell_type": "markdown",
   "id": "66da4a8b",
   "metadata": {},
   "source": [
    "#### Creating a list of the ticker symbols (as strings) in alphabetical order. \n",
    "Naming this list: tickers\n",
    "\n",
    "* A stock ticker reports transaction and price data for a security, updated continuously throughout the day.\n",
    "* A stock ticker typically reports on the most active securities or ones making headlines on a given day.\n",
    "* The ticker typically shows the ticker symbol, the price change and percentage change from the previous session's close, and often the volume of the shares being traded.\n",
    "* Some tickers color code information to reflect the direction of the price, with green for higher, red for lower, and a neutral color like gray or tan for no change."
   ]
  },
  {
   "cell_type": "code",
   "execution_count": null,
   "id": "9c5efdda",
   "metadata": {},
   "outputs": [],
   "source": [
    "tickers = ['BAC','C','GS','JPM','MS','WFC']"
   ]
  },
  {
   "cell_type": "markdown",
   "id": "d7377b43",
   "metadata": {},
   "source": [
    "**Used pd.concat to concatenate the bank dataframes together to a single data frame called bank_stocks. Set the keys argument equal to the tickers list.**"
   ]
  },
  {
   "cell_type": "code",
   "execution_count": null,
   "id": "731df7f5",
   "metadata": {},
   "outputs": [],
   "source": [
    "bank_stocks = pd.concat([BAC,C,GS,JPM,MS,WFC],axis=1,keys=tickers)\n",
    "bank_stocks.columns.names = ['Bank Ticker','Stock Info']\n",
    "bank_stocks.head()"
   ]
  },
  {
   "cell_type": "markdown",
   "id": "fe135dd3",
   "metadata": {},
   "source": [
    "## Analyzing the data\n"
   ]
  },
  {
   "cell_type": "code",
   "execution_count": null,
   "id": "647d86d6",
   "metadata": {},
   "outputs": [],
   "source": [
    "# Maximum Stock Closing Price for each and every Bank"
   ]
  },
  {
   "cell_type": "code",
   "execution_count": null,
   "id": "50fbc76c",
   "metadata": {},
   "outputs": [],
   "source": [
    "bank_stocks.xs(key='close',axis=1,level='Stock Info').max()"
   ]
  },
  {
   "cell_type": "markdown",
   "id": "9c128884",
   "metadata": {},
   "source": [
    "**Creating a new empty DataFrame called returns. This dataframe will contain the Returns for each bank's stock. returns are typically defined by:**\n",
    "\n",
    "$$r_t = \\frac{p_t - p_{t-1}}{p_{t-1}} = \\frac{p_t}{p_{t-1}} - 1$$\n",
    "\n",
    "Return on stock is equal to the sum of all dividends yielded from the stock and the stock capital gain minus the initial cost of the investment divided by the initial cost value for investment, end result is multiplied by 100 to convert into percentage."
   ]
  },
  {
   "cell_type": "code",
   "execution_count": null,
   "id": "df24ec1d",
   "metadata": {},
   "outputs": [],
   "source": [
    "returns = pd.DataFrame()\n",
    "for tick in tickers:\n",
    "    returns[tick+' Returns']=bank_stocks[tick]['close'].pct_change()\n",
    "returns.head()"
   ]
  },
  {
   "cell_type": "code",
   "execution_count": null,
   "id": "a33e9ba2",
   "metadata": {
    "scrolled": false
   },
   "outputs": [],
   "source": [
    "import seaborn as sns\n",
    "sns.pairplot(returns[1:])"
   ]
  },
  {
   "cell_type": "markdown",
   "id": "887d1474",
   "metadata": {},
   "source": [
    "Pair plot is used to understand the best set of features to explain a relationship between two variables or to form the most separated clusters. It also helps to form some simple classification models by drawing some simple lines or make linear separation in our data-set."
   ]
  },
  {
   "cell_type": "code",
   "execution_count": null,
   "id": "5d70d2a4",
   "metadata": {},
   "outputs": [],
   "source": [
    "# More analysis and plotting for study\n",
    "import matplotlib.pyplot as plt\n",
    "import seaborn as sns\n",
    "sns.set_style('whitegrid')\n",
    "%matplotlib inline\n",
    "\n",
    "# Optional Plotly Method Imports\n",
    "import plotly\n",
    "import cufflinks as cf\n",
    "cf.go_offline()"
   ]
  },
  {
   "cell_type": "code",
   "execution_count": null,
   "id": "82016a56",
   "metadata": {},
   "outputs": [],
   "source": [
    "bank_stocks.xs(key='close',axis=1,level='Stock Info').iplot()"
   ]
  },
  {
   "cell_type": "markdown",
   "id": "ff24244f",
   "metadata": {},
   "source": [
    "### Analysis\n",
    "As we can interpret the biggest dip in the market for selected set of Company stocks we can notice the Dip on 23-MARCH-2020\n",
    "https://www.businesstoday.in/markets/market-perspective/story/share-market-live-sensex-nifty-dalal-street-stock-outlook-news-on-march-23-yes-bank-aster-dm-healthcare-welspun-torrent-power-252839-2020-03-23 \n",
    "\n",
    "#### Indian stocks suffer worst day in history as coronavirus shuts businesses, cities\n",
    "By Reuters Staff\n",
    "(Updates to closing levels)\n",
    "\n",
    "* BENGALURU, March 23 (Reuters) - The Indian stock market on Monday suffered its worst single-day rout in history and the rupee plunged more than 1%, with investors stuck in a selling frenzy as the coronavirus disrupted businesses and forced several districts into lockdown."
   ]
  },
  {
   "cell_type": "code",
   "execution_count": null,
   "id": "ccbcccfe",
   "metadata": {},
   "outputs": [],
   "source": []
  }
 ],
 "metadata": {
  "kernelspec": {
   "display_name": "Python 3 (ipykernel)",
   "language": "python",
   "name": "python3"
  },
  "language_info": {
   "codemirror_mode": {
    "name": "ipython",
    "version": 3
   },
   "file_extension": ".py",
   "mimetype": "text/x-python",
   "name": "python",
   "nbconvert_exporter": "python",
   "pygments_lexer": "ipython3",
   "version": "3.9.7"
  }
 },
 "nbformat": 4,
 "nbformat_minor": 5
}
